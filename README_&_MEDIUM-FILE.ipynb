{
  "nbformat": 4,
  "nbformat_minor": 0,
  "metadata": {
    "colab": {
      "provenance": [],
      "authorship_tag": "ABX9TyPdK0tcPsa40GLrclezwBKD",
      "include_colab_link": true
    },
    "kernelspec": {
      "name": "python3",
      "display_name": "Python 3"
    },
    "language_info": {
      "name": "python"
    }
  },
  "cells": [
    {
      "cell_type": "markdown",
      "metadata": {
        "id": "view-in-github",
        "colab_type": "text"
      },
      "source": [
        "<a href=\"https://colab.research.google.com/github/ruchithareddy269/Dm-Assgn01/blob/master/README_%26_MEDIUM-FILE.ipynb\" target=\"_parent\"><img src=\"https://colab.research.google.com/assets/colab-badge.svg\" alt=\"Open In Colab\"/></a>"
      ]
    },
    {
      "cell_type": "code",
      "execution_count": null,
      "metadata": {
        "id": "hu5pZZyCNJMn"
      },
      "outputs": [],
      "source": [
        "README FILE:\n",
        "\n",
        "CMPE 255: Data Mining\n",
        "\n",
        "1:Project Using GPT-4\n",
        "\n",
        "Medium.txt: This File contains the link of the medium story where I have generated a data science project named \"FRAUD DETECTION\" using GPT-4.\n",
        "\n",
        "I have learned about data science's foundations through this assignment. We are discovering the iterative methodology it employs. We are also learning about the many stages of the data science process and the different stages that are necessary (for example, Business Understanding, Data Understanding, Data Preparation, Data Analysis, Data Modeling, Model Evaluation & Model Deployment).\n",
        "\n",
        "2: Application using GPT_ENGINEER\n",
        "\n",
        "Please find the below list of the files and their associated descriptions:\n",
        "\n",
        "Dm_Assgn01/VideoApplication: This is a video of a website created with the help of Gpt-Engineer using the prompt given by us.\n",
        "Based on the requirements mentioned in prompt, we can start by creating a single HTML file that contains the webpage with the heading and login details. We don't need any additional classes or functions for this simple webpage.\n",
        "\n",
        "index.html: This is the entrypoint file that contains the HTML structure of the webpage.\n",
        "\n",
        "To rework the code, perform unit tests, develop functions and code, and build another application, I utilized the VS Code \"Copilot Chat\" extension.\n",
        "\n",
        "References:\n",
        "https://levelup.gitconnected.com/gpt-engineer-build-an-entire-app-with-a-single-prompt-14a1bbf4aeb6\n",
        "https://lachieslifestyle.com/2023/06/19/gpt-engineer-install/ https://eightify.app/summary/programming-and-artificial-intelligence/gpt-engineer-simplifying-app-development-with-one-prompt https://code.visualstudio.com/docs/editor/artificial-intelligence#_chat-view https://www.youtube.com/watch?v=ceMuK0xUtSY&ab_channel=MatthewBerman\n",
        "https://code.visualstudio.com/docs/editor/artificial-intelligence#_chat-view https://artificialcorner.com/gpt-engineer-generate-an-entire-codebase-with-1-prompt-7e98ca368410 https://ecoagi.ai/topics/ChatGPT/gpt-engineer#run-gpt-engineer-projects-in-vscode\n",
        "\n",
        "\n"
      ]
    },
    {
      "cell_type": "code",
      "source": [
        "MEDIUM ARTICLE ON \"FRAUD DETECTION\"\n",
        "\n",
        "Hello!!\n",
        "Please find link to my medium article below.\n",
        "\n",
        "\n",
        "https://medium.com/@ruchithareddy.koluguri/end-to-end-fraud-detection-analysis-using-crisp-dm-92c3a7f2ca19"
      ],
      "metadata": {
        "id": "X80GNXxvejpE"
      },
      "execution_count": null,
      "outputs": []
    }
  ]
}